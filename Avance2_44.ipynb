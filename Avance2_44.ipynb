{
  "nbformat": 4,
  "nbformat_minor": 0,
  "metadata": {
    "colab": {
      "provenance": [],
      "authorship_tag": "ABX9TyPAZ+6w6Bzp2dG5XqySpMwJ",
      "include_colab_link": true
    },
    "kernelspec": {
      "name": "python3",
      "display_name": "Python 3"
    },
    "language_info": {
      "name": "python"
    }
  },
  "cells": [
    {
      "cell_type": "markdown",
      "metadata": {
        "id": "view-in-github",
        "colab_type": "text"
      },
      "source": [
        "<a href=\"https://colab.research.google.com/github/A01793509/Equipo_44/blob/main/Avance2_44.ipynb\" target=\"_parent\"><img src=\"https://colab.research.google.com/assets/colab-badge.svg\" alt=\"Open In Colab\"/></a>"
      ]
    },
    {
      "cell_type": "markdown",
      "source": [
        "\n",
        "---\n",
        "\n",
        "\n",
        "🚀 **Avance 2. Ingeniería de características**:\n",
        "\n",
        "- Crear nuevas características para mejorar el rendimiento de los modelos.\n",
        "- Mitigar el riesgo de características sesgadas y acelerar la convergencia de algunos algoritmos.\n",
        "\n",
        "📑 **Asignatura:** Proyecto Integrador\n",
        "\n",
        "📘 **Proyecto:** LunchForecast AI: Optimizador de reservas de almuerzos empresariales basado en inteligencia artificial.\n",
        "\n",
        "📚 **Equipo:** 44\n",
        "\n",
        "🧑 **Alumnos:**\n",
        "> Alberto José García Porras (Matrícula No. **A01793509**)\n",
        "\n",
        ">  Erick Johan Najera Olivero (Matrícula No. **A01793506**)\n",
        "\n",
        ">  Carlos Julio León Caicedo (Matrícula No. **A01793947**)\n",
        "\n",
        "👩 **Profesores**:\n",
        "> Dra. Grettel Barceló Alonso\n",
        "\n",
        "> Dr. Luis Eduardo Falcón Morales\n",
        "\n",
        "> Dr. Guillermo Mota\n",
        "\n",
        "📅 Mayo 12 del 2024\n",
        "\n",
        "---"
      ],
      "metadata": {
        "id": "X38y2671x6vN"
      }
    },
    {
      "cell_type": "code",
      "source": [
        "import pandas as pd\n",
        "import matplotlib.pyplot as plt\n",
        "import matplotlib.image as mpimg\n",
        "import seaborn as sns\n",
        "import math\n",
        "import numpy as np\n",
        "import warnings\n",
        "from sklearn.preprocessing import StandardScaler\n",
        "from sklearn.cluster import KMeans"
      ],
      "metadata": {
        "id": "tZ005ndIyV8U"
      },
      "execution_count": 88,
      "outputs": []
    },
    {
      "cell_type": "markdown",
      "source": [
        "---\n",
        "##👣**Obtener Datos**: Cargamos el archivo CSV con la información del consumo del casino desde enero del 2021 hasta marzo del 2024.\n",
        "---"
      ],
      "metadata": {
        "id": "x_RAyX7wyn2A"
      }
    },
    {
      "cell_type": "code",
      "source": [
        "dfCasinoConsumo = pd.read_csv(\"DatosConsumoCasino.csv\",sep=\";\")\n",
        "dfCasinoConsumo.head().T"
      ],
      "metadata": {
        "colab": {
          "base_uri": "https://localhost:8080/",
          "height": 457
        },
        "id": "Cb_tp5mqyrUM",
        "outputId": "a789eaee-bc91-4be7-e71e-f36182ffa4a7"
      },
      "execution_count": 32,
      "outputs": [
        {
          "output_type": "execute_result",
          "data": {
            "text/plain": [
              "                                0               1          2          3  \\\n",
              "Consecutivo                825979          825980     825981     825982   \n",
              "IdProducto                    2.0             2.0        2.0        2.0   \n",
              "cod lector                      0               0          0          1   \n",
              "Cod comedor                  1001            1001       1001       1001   \n",
              "Identificacion persona     100001          100002     100003     100004   \n",
              "Fecha Consumo           3/01/2021       3/01/2021  3/01/2021  3/01/2021   \n",
              "Detalle                  ALMUERZO        ALMUERZO   ALMUERZO   ALMUERZO   \n",
              "Nro empleados                3486            3486       3486       3486   \n",
              "Tipo Empleado           Operativo  Administrativo  Operativo  Operativo   \n",
              "Nivel                        OPER            ANAL       OPER       OPER   \n",
              "Porcentaje apoyo                0              90          0         90   \n",
              "Invitado                        0               0          0          0   \n",
              "Ing x planta                    1               1          1          1   \n",
              "\n",
              "                                     4  \n",
              "Consecutivo                     825983  \n",
              "IdProducto                         2.0  \n",
              "cod lector                           0  \n",
              "Cod comedor                       1001  \n",
              "Identificacion persona          100005  \n",
              "Fecha Consumo                3/01/2021  \n",
              "Detalle                       ALMUERZO  \n",
              "Nro empleados                     3486  \n",
              "Tipo Empleado           Administrativo  \n",
              "Nivel                             OPER  \n",
              "Porcentaje apoyo                     0  \n",
              "Invitado                             0  \n",
              "Ing x planta                         1  "
            ],
            "text/html": [
              "\n",
              "  <div id=\"df-e22bdbcd-cb4a-412a-96c7-685756358aa9\" class=\"colab-df-container\">\n",
              "    <div>\n",
              "<style scoped>\n",
              "    .dataframe tbody tr th:only-of-type {\n",
              "        vertical-align: middle;\n",
              "    }\n",
              "\n",
              "    .dataframe tbody tr th {\n",
              "        vertical-align: top;\n",
              "    }\n",
              "\n",
              "    .dataframe thead th {\n",
              "        text-align: right;\n",
              "    }\n",
              "</style>\n",
              "<table border=\"1\" class=\"dataframe\">\n",
              "  <thead>\n",
              "    <tr style=\"text-align: right;\">\n",
              "      <th></th>\n",
              "      <th>0</th>\n",
              "      <th>1</th>\n",
              "      <th>2</th>\n",
              "      <th>3</th>\n",
              "      <th>4</th>\n",
              "    </tr>\n",
              "  </thead>\n",
              "  <tbody>\n",
              "    <tr>\n",
              "      <th>Consecutivo</th>\n",
              "      <td>825979</td>\n",
              "      <td>825980</td>\n",
              "      <td>825981</td>\n",
              "      <td>825982</td>\n",
              "      <td>825983</td>\n",
              "    </tr>\n",
              "    <tr>\n",
              "      <th>IdProducto</th>\n",
              "      <td>2.0</td>\n",
              "      <td>2.0</td>\n",
              "      <td>2.0</td>\n",
              "      <td>2.0</td>\n",
              "      <td>2.0</td>\n",
              "    </tr>\n",
              "    <tr>\n",
              "      <th>cod lector</th>\n",
              "      <td>0</td>\n",
              "      <td>0</td>\n",
              "      <td>0</td>\n",
              "      <td>1</td>\n",
              "      <td>0</td>\n",
              "    </tr>\n",
              "    <tr>\n",
              "      <th>Cod comedor</th>\n",
              "      <td>1001</td>\n",
              "      <td>1001</td>\n",
              "      <td>1001</td>\n",
              "      <td>1001</td>\n",
              "      <td>1001</td>\n",
              "    </tr>\n",
              "    <tr>\n",
              "      <th>Identificacion persona</th>\n",
              "      <td>100001</td>\n",
              "      <td>100002</td>\n",
              "      <td>100003</td>\n",
              "      <td>100004</td>\n",
              "      <td>100005</td>\n",
              "    </tr>\n",
              "    <tr>\n",
              "      <th>Fecha Consumo</th>\n",
              "      <td>3/01/2021</td>\n",
              "      <td>3/01/2021</td>\n",
              "      <td>3/01/2021</td>\n",
              "      <td>3/01/2021</td>\n",
              "      <td>3/01/2021</td>\n",
              "    </tr>\n",
              "    <tr>\n",
              "      <th>Detalle</th>\n",
              "      <td>ALMUERZO</td>\n",
              "      <td>ALMUERZO</td>\n",
              "      <td>ALMUERZO</td>\n",
              "      <td>ALMUERZO</td>\n",
              "      <td>ALMUERZO</td>\n",
              "    </tr>\n",
              "    <tr>\n",
              "      <th>Nro empleados</th>\n",
              "      <td>3486</td>\n",
              "      <td>3486</td>\n",
              "      <td>3486</td>\n",
              "      <td>3486</td>\n",
              "      <td>3486</td>\n",
              "    </tr>\n",
              "    <tr>\n",
              "      <th>Tipo Empleado</th>\n",
              "      <td>Operativo</td>\n",
              "      <td>Administrativo</td>\n",
              "      <td>Operativo</td>\n",
              "      <td>Operativo</td>\n",
              "      <td>Administrativo</td>\n",
              "    </tr>\n",
              "    <tr>\n",
              "      <th>Nivel</th>\n",
              "      <td>OPER</td>\n",
              "      <td>ANAL</td>\n",
              "      <td>OPER</td>\n",
              "      <td>OPER</td>\n",
              "      <td>OPER</td>\n",
              "    </tr>\n",
              "    <tr>\n",
              "      <th>Porcentaje apoyo</th>\n",
              "      <td>0</td>\n",
              "      <td>90</td>\n",
              "      <td>0</td>\n",
              "      <td>90</td>\n",
              "      <td>0</td>\n",
              "    </tr>\n",
              "    <tr>\n",
              "      <th>Invitado</th>\n",
              "      <td>0</td>\n",
              "      <td>0</td>\n",
              "      <td>0</td>\n",
              "      <td>0</td>\n",
              "      <td>0</td>\n",
              "    </tr>\n",
              "    <tr>\n",
              "      <th>Ing x planta</th>\n",
              "      <td>1</td>\n",
              "      <td>1</td>\n",
              "      <td>1</td>\n",
              "      <td>1</td>\n",
              "      <td>1</td>\n",
              "    </tr>\n",
              "  </tbody>\n",
              "</table>\n",
              "</div>\n",
              "    <div class=\"colab-df-buttons\">\n",
              "\n",
              "  <div class=\"colab-df-container\">\n",
              "    <button class=\"colab-df-convert\" onclick=\"convertToInteractive('df-e22bdbcd-cb4a-412a-96c7-685756358aa9')\"\n",
              "            title=\"Convert this dataframe to an interactive table.\"\n",
              "            style=\"display:none;\">\n",
              "\n",
              "  <svg xmlns=\"http://www.w3.org/2000/svg\" height=\"24px\" viewBox=\"0 -960 960 960\">\n",
              "    <path d=\"M120-120v-720h720v720H120Zm60-500h600v-160H180v160Zm220 220h160v-160H400v160Zm0 220h160v-160H400v160ZM180-400h160v-160H180v160Zm440 0h160v-160H620v160ZM180-180h160v-160H180v160Zm440 0h160v-160H620v160Z\"/>\n",
              "  </svg>\n",
              "    </button>\n",
              "\n",
              "  <style>\n",
              "    .colab-df-container {\n",
              "      display:flex;\n",
              "      gap: 12px;\n",
              "    }\n",
              "\n",
              "    .colab-df-convert {\n",
              "      background-color: #E8F0FE;\n",
              "      border: none;\n",
              "      border-radius: 50%;\n",
              "      cursor: pointer;\n",
              "      display: none;\n",
              "      fill: #1967D2;\n",
              "      height: 32px;\n",
              "      padding: 0 0 0 0;\n",
              "      width: 32px;\n",
              "    }\n",
              "\n",
              "    .colab-df-convert:hover {\n",
              "      background-color: #E2EBFA;\n",
              "      box-shadow: 0px 1px 2px rgba(60, 64, 67, 0.3), 0px 1px 3px 1px rgba(60, 64, 67, 0.15);\n",
              "      fill: #174EA6;\n",
              "    }\n",
              "\n",
              "    .colab-df-buttons div {\n",
              "      margin-bottom: 4px;\n",
              "    }\n",
              "\n",
              "    [theme=dark] .colab-df-convert {\n",
              "      background-color: #3B4455;\n",
              "      fill: #D2E3FC;\n",
              "    }\n",
              "\n",
              "    [theme=dark] .colab-df-convert:hover {\n",
              "      background-color: #434B5C;\n",
              "      box-shadow: 0px 1px 3px 1px rgba(0, 0, 0, 0.15);\n",
              "      filter: drop-shadow(0px 1px 2px rgba(0, 0, 0, 0.3));\n",
              "      fill: #FFFFFF;\n",
              "    }\n",
              "  </style>\n",
              "\n",
              "    <script>\n",
              "      const buttonEl =\n",
              "        document.querySelector('#df-e22bdbcd-cb4a-412a-96c7-685756358aa9 button.colab-df-convert');\n",
              "      buttonEl.style.display =\n",
              "        google.colab.kernel.accessAllowed ? 'block' : 'none';\n",
              "\n",
              "      async function convertToInteractive(key) {\n",
              "        const element = document.querySelector('#df-e22bdbcd-cb4a-412a-96c7-685756358aa9');\n",
              "        const dataTable =\n",
              "          await google.colab.kernel.invokeFunction('convertToInteractive',\n",
              "                                                    [key], {});\n",
              "        if (!dataTable) return;\n",
              "\n",
              "        const docLinkHtml = 'Like what you see? Visit the ' +\n",
              "          '<a target=\"_blank\" href=https://colab.research.google.com/notebooks/data_table.ipynb>data table notebook</a>'\n",
              "          + ' to learn more about interactive tables.';\n",
              "        element.innerHTML = '';\n",
              "        dataTable['output_type'] = 'display_data';\n",
              "        await google.colab.output.renderOutput(dataTable, element);\n",
              "        const docLink = document.createElement('div');\n",
              "        docLink.innerHTML = docLinkHtml;\n",
              "        element.appendChild(docLink);\n",
              "      }\n",
              "    </script>\n",
              "  </div>\n",
              "\n",
              "\n",
              "<div id=\"df-319f8db9-ae80-435a-b998-1689a030a970\">\n",
              "  <button class=\"colab-df-quickchart\" onclick=\"quickchart('df-319f8db9-ae80-435a-b998-1689a030a970')\"\n",
              "            title=\"Suggest charts\"\n",
              "            style=\"display:none;\">\n",
              "\n",
              "<svg xmlns=\"http://www.w3.org/2000/svg\" height=\"24px\"viewBox=\"0 0 24 24\"\n",
              "     width=\"24px\">\n",
              "    <g>\n",
              "        <path d=\"M19 3H5c-1.1 0-2 .9-2 2v14c0 1.1.9 2 2 2h14c1.1 0 2-.9 2-2V5c0-1.1-.9-2-2-2zM9 17H7v-7h2v7zm4 0h-2V7h2v10zm4 0h-2v-4h2v4z\"/>\n",
              "    </g>\n",
              "</svg>\n",
              "  </button>\n",
              "\n",
              "<style>\n",
              "  .colab-df-quickchart {\n",
              "      --bg-color: #E8F0FE;\n",
              "      --fill-color: #1967D2;\n",
              "      --hover-bg-color: #E2EBFA;\n",
              "      --hover-fill-color: #174EA6;\n",
              "      --disabled-fill-color: #AAA;\n",
              "      --disabled-bg-color: #DDD;\n",
              "  }\n",
              "\n",
              "  [theme=dark] .colab-df-quickchart {\n",
              "      --bg-color: #3B4455;\n",
              "      --fill-color: #D2E3FC;\n",
              "      --hover-bg-color: #434B5C;\n",
              "      --hover-fill-color: #FFFFFF;\n",
              "      --disabled-bg-color: #3B4455;\n",
              "      --disabled-fill-color: #666;\n",
              "  }\n",
              "\n",
              "  .colab-df-quickchart {\n",
              "    background-color: var(--bg-color);\n",
              "    border: none;\n",
              "    border-radius: 50%;\n",
              "    cursor: pointer;\n",
              "    display: none;\n",
              "    fill: var(--fill-color);\n",
              "    height: 32px;\n",
              "    padding: 0;\n",
              "    width: 32px;\n",
              "  }\n",
              "\n",
              "  .colab-df-quickchart:hover {\n",
              "    background-color: var(--hover-bg-color);\n",
              "    box-shadow: 0 1px 2px rgba(60, 64, 67, 0.3), 0 1px 3px 1px rgba(60, 64, 67, 0.15);\n",
              "    fill: var(--button-hover-fill-color);\n",
              "  }\n",
              "\n",
              "  .colab-df-quickchart-complete:disabled,\n",
              "  .colab-df-quickchart-complete:disabled:hover {\n",
              "    background-color: var(--disabled-bg-color);\n",
              "    fill: var(--disabled-fill-color);\n",
              "    box-shadow: none;\n",
              "  }\n",
              "\n",
              "  .colab-df-spinner {\n",
              "    border: 2px solid var(--fill-color);\n",
              "    border-color: transparent;\n",
              "    border-bottom-color: var(--fill-color);\n",
              "    animation:\n",
              "      spin 1s steps(1) infinite;\n",
              "  }\n",
              "\n",
              "  @keyframes spin {\n",
              "    0% {\n",
              "      border-color: transparent;\n",
              "      border-bottom-color: var(--fill-color);\n",
              "      border-left-color: var(--fill-color);\n",
              "    }\n",
              "    20% {\n",
              "      border-color: transparent;\n",
              "      border-left-color: var(--fill-color);\n",
              "      border-top-color: var(--fill-color);\n",
              "    }\n",
              "    30% {\n",
              "      border-color: transparent;\n",
              "      border-left-color: var(--fill-color);\n",
              "      border-top-color: var(--fill-color);\n",
              "      border-right-color: var(--fill-color);\n",
              "    }\n",
              "    40% {\n",
              "      border-color: transparent;\n",
              "      border-right-color: var(--fill-color);\n",
              "      border-top-color: var(--fill-color);\n",
              "    }\n",
              "    60% {\n",
              "      border-color: transparent;\n",
              "      border-right-color: var(--fill-color);\n",
              "    }\n",
              "    80% {\n",
              "      border-color: transparent;\n",
              "      border-right-color: var(--fill-color);\n",
              "      border-bottom-color: var(--fill-color);\n",
              "    }\n",
              "    90% {\n",
              "      border-color: transparent;\n",
              "      border-bottom-color: var(--fill-color);\n",
              "    }\n",
              "  }\n",
              "</style>\n",
              "\n",
              "  <script>\n",
              "    async function quickchart(key) {\n",
              "      const quickchartButtonEl =\n",
              "        document.querySelector('#' + key + ' button');\n",
              "      quickchartButtonEl.disabled = true;  // To prevent multiple clicks.\n",
              "      quickchartButtonEl.classList.add('colab-df-spinner');\n",
              "      try {\n",
              "        const charts = await google.colab.kernel.invokeFunction(\n",
              "            'suggestCharts', [key], {});\n",
              "      } catch (error) {\n",
              "        console.error('Error during call to suggestCharts:', error);\n",
              "      }\n",
              "      quickchartButtonEl.classList.remove('colab-df-spinner');\n",
              "      quickchartButtonEl.classList.add('colab-df-quickchart-complete');\n",
              "    }\n",
              "    (() => {\n",
              "      let quickchartButtonEl =\n",
              "        document.querySelector('#df-319f8db9-ae80-435a-b998-1689a030a970 button');\n",
              "      quickchartButtonEl.style.display =\n",
              "        google.colab.kernel.accessAllowed ? 'block' : 'none';\n",
              "    })();\n",
              "  </script>\n",
              "</div>\n",
              "\n",
              "    </div>\n",
              "  </div>\n"
            ],
            "application/vnd.google.colaboratory.intrinsic+json": {
              "type": "dataframe",
              "variable_name": "dfCasinoConsumo"
            }
          },
          "metadata": {},
          "execution_count": 32
        }
      ]
    },
    {
      "cell_type": "markdown",
      "source": [
        "---\n",
        "<center> 🤔 Matriz de Correlación entre las variables dependientes e independientes\n",
        "</center>\n",
        "---"
      ],
      "metadata": {
        "id": "x0PiaST1y7Tn"
      }
    },
    {
      "cell_type": "code",
      "source": [
        "# Preparación de los datos\n",
        "# Copia del consumo original de comidas relacionadas en el conjunto de datos\n",
        "dfCasinoConsumoOriginal = dfCasinoConsumo.copy()\n",
        "\n",
        "# Si la columna necesita ser convertida a datetime (solo si se detectan problemas en la carga directa)\n",
        "dfCasinoConsumo['Fecha Consumo'] = pd.to_datetime(dfCasinoConsumo['Fecha Consumo'], errors='coerce')\n",
        "dfCasinoConsumo['Dia de la semana'] = dfCasinoConsumo['Fecha Consumo'].dt.dayofweek # lunes=0, domingo=6\n",
        "\n",
        "# Se convierte la variable 'Tipo Empleado' de variable categórica a variable numérica\n",
        "dfCasinoConsumo['Tipo Empleado'] = pd.Categorical(dfCasinoConsumo['Tipo Empleado']).codes\n",
        "\n",
        "# Nos aseguramos que 'Nro empleados' y 'Porcentaje apoyo' sean variables numéricas\n",
        "dfCasinoConsumo['Nro empleados'] = pd.to_numeric(dfCasinoConsumo['Nro empleados'], errors='coerce')\n",
        "dfCasinoConsumo['Porcentaje apoyo'] = pd.to_numeric(dfCasinoConsumo['Porcentaje apoyo'], errors='coerce')\n",
        "\n",
        "# Se pasa a mayuscula todos los datos de la variable\n",
        "dfCasinoConsumo['Detalle'] = dfCasinoConsumo['Detalle'].str.upper()\n",
        "\n",
        "# Filtrar el DataFrame para conservar solo las filas donde 'Detalle' es 'ALMUERZO' y crear una copia para evitar SettingWithCopyWarning\n",
        "dfCasinoConsumo = dfCasinoConsumo[dfCasinoConsumo['Detalle'] == 'ALMUERZO'].copy()\n",
        "\n",
        "# Creamos una columna auxiliar 'Conteo Almuerzos' con todos los valores iguales a 1 para facilitar la suma\n",
        "dfCasinoConsumo.loc[:, 'Conteo Almuerzos'] = 1\n",
        "\n",
        "# Luego, agrupamos los datos por 'Día de la semana' y sumamos el 'Conteo Almuerzos' para obtener el 'Número de Almuerzos' total por cada día de la semana\n",
        "dfCasinoConsumo['Número de Almuerzos'] = dfCasinoConsumo.groupby('Dia de la semana')['Conteo Almuerzos'].transform('sum')\n",
        "\n",
        "# Continuando con la preparación de los datos:\n",
        "dfCasinoConsumo['Tipo Empleado'] = pd.Categorical(dfCasinoConsumo['Tipo Empleado']).codes # Convertir 'Tipo Empleado' en variable numérica\n",
        "dfCasinoConsumo['Detalle'] = pd.Categorical(dfCasinoConsumo['Detalle']).codes  # Convertir 'Detalle' en variable numérica, se dejo solo ALMUERZO\n",
        "dfCasinoConsumo['Nivel'] = pd.Categorical(dfCasinoConsumo['Nivel']).codes      # Convertir 'Nivel' en variable numérica\n",
        "dfCasinoConsumo['Nro empleados'] = pd.to_numeric(dfCasinoConsumo['Nro empleados'], errors='coerce')\n",
        "dfCasinoConsumo['Porcentaje apoyo'] = pd.to_numeric(dfCasinoConsumo['Porcentaje apoyo'], errors='coerce')\n",
        "\n",
        "# Cada registro en el dataframe representa un ALMUERZO, CENA, O COMIDA consumida\n",
        "dfCasinoConsumo['Número de Almuerzos'] = dfCasinoConsumo.groupby('Dia de la semana')['Dia de la semana'].transform('count')\n",
        "\n",
        "# Eliminamos las filas con valores NaN en las columnas relevantes para asegurarnos de que la correlación no se vea afectada por los datos faltantes.\n",
        "dfCasinoConsumo.dropna(subset=['Número de Almuerzos', 'Dia de la semana', 'Tipo Empleado', 'Nro empleados', 'Porcentaje apoyo', 'Nivel'], inplace=True)\n",
        "\n",
        "# Finalmente se crea la Matriz de Correlación entre las variables seleccionadas, se quita la variable Detalle\n",
        "correlation_matrix = dfCasinoConsumo[['Número de Almuerzos', 'Dia de la semana', 'Tipo Empleado', 'Nro empleados', 'Porcentaje apoyo', 'Nivel']].corr()\n",
        "\n",
        "# Visualización de la matriz de correlación\n",
        "plt.figure(figsize=(12, 10))\n",
        "sns.heatmap(correlation_matrix, annot=True, cmap='coolwarm', fmt=\".2f\")\n",
        "plt.title('Correlación entre Variables Dependientes e Independientes')\n",
        "plt.xticks(rotation=45)\n",
        "plt.yticks(rotation=0)\n",
        "plt.tight_layout()\n",
        "plt.show()"
      ],
      "metadata": {
        "colab": {
          "base_uri": "https://localhost:8080/",
          "height": 1000
        },
        "id": "B4v1j0O9Gce4",
        "outputId": "2e4a7c7c-5b9c-4ba5-ffe6-8c77a021bd8c"
      },
      "execution_count": 86,
      "outputs": [
        {
          "output_type": "display_data",
          "data": {
            "text/plain": [
              "<Figure size 1200x1000 with 2 Axes>"
            ],
            "image/png": "[encoded data removed]"
          },
          "metadata": {}
        }
      ]
    },
    {
      "cell_type": "markdown",
      "source": [
        "---\n",
        "#####🔎 Algunas de las conclusiones obtenidas para calcular la corrrelación entre las variables dependientes e independientes:\n",
        "*   Las variables **\"Invitado\"** y **\"Ing x planta\"** no presentaban variación, dado que todos sus  valores era 0 y 1, entonces no fueron consideradas para calcular la matriz de correlación.\n",
        "*   La correlación entre Número de Almuerzos y Día de la Semana (-0.63):\n",
        "Esta correlación es **fuertemente negativa**, lo que confirma una tendencia de que a medida que avanza la semana, el número de almuerzos consumidos disminuye. Esto puede influir en la planificación de los almuerzos a contratar durante la semana.\n",
        "*   La variable **Detalle** almacena el tipo de comida así: ALMUERZO, CENA, COMIDA, DESAYUNO, MERIENDA AM, MERIENDA PM, REFRIGE PM, REFRIGERIO ESPECIAL PM, y dado que se requiere obtener las cantidades correctas para el servicio de almuerzo del personal y así contribuir a que se reduzca considerablemente el  desperdicio de alimentos en la empresa, se opta por Filtrar el DataFrame para conservar solo las filas donde 'Detalle' es 'ALMUERZO'. De igual manera se observo en la correlación con todos los datos de **la variable Detalle no tenía una incidencia en la correlación, si no que sus valores fueron muy bajos**, por ello se procede a eliminarla de la correlación.\n",
        "*   Existe una fuerte correlación positiva entre el Tipo de empleado y su Nivel jerárquico (0.71). Esto sugiere que las categorías de empleados están alineadas o son dependientes de los niveles jerárquicos dentro de la organización.\n",
        "*    Hay una correlación moderada (0.43) entre el **Tipo Empleado** y el **Porcentaje apoyo** que reciben para los almuerzos. Esto puede indicar que diferentes tipos de empleados reciben diferentes niveles de subsidios para las comida, lo cual puede influir en su decisión de almorzar en el comedor de la empresa.\n",
        "*   Las bajas correlaciones entre el número de empleados y las otras variables, indican que simplemente **más empleados activos en la fecha del consumo no garantiza un aumento o disminución proporcional en el uso del comedor**, lo que sugiere que otros factores contextuales o personales están en juego.\n",
        "---"
      ],
      "metadata": {
        "id": "1cX6e4HJGiYA"
      }
    },
    {
      "cell_type": "code",
      "source": [
        "dfCasinoConsumo.info()"
      ],
      "metadata": {
        "colab": {
          "base_uri": "https://localhost:8080/"
        },
        "id": "D_VHKFp08Jei",
        "outputId": "ad90589c-e9ed-46f1-9581-f932fd959d94"
      },
      "execution_count": 33,
      "outputs": [
        {
          "output_type": "stream",
          "name": "stdout",
          "text": [
            "<class 'pandas.core.frame.DataFrame'>\n",
            "RangeIndex: 884615 entries, 0 to 884614\n",
            "Data columns (total 13 columns):\n",
            " #   Column                  Non-Null Count   Dtype  \n",
            "---  ------                  --------------   -----  \n",
            " 0   Consecutivo             884615 non-null  int64  \n",
            " 1   IdProducto              836829 non-null  float64\n",
            " 2   cod lector              884615 non-null  int64  \n",
            " 3   Cod comedor             884615 non-null  int64  \n",
            " 4   Identificacion persona  884615 non-null  int64  \n",
            " 5   Fecha Consumo           884615 non-null  object \n",
            " 6   Detalle                 884615 non-null  object \n",
            " 7   Nro empleados           884615 non-null  int64  \n",
            " 8   Tipo Empleado           884615 non-null  object \n",
            " 9   Nivel                   884615 non-null  object \n",
            " 10  Porcentaje apoyo        884615 non-null  int64  \n",
            " 11  Invitado                884615 non-null  int64  \n",
            " 12  Ing x planta            884615 non-null  int64  \n",
            "dtypes: float64(1), int64(8), object(4)\n",
            "memory usage: 87.7+ MB\n"
          ]
        }
      ]
    },
    {
      "cell_type": "code",
      "source": [
        "missing_values = dfCasinoConsumo.isnull().sum()\n",
        "variables_con_valores_nulos = missing_values[missing_values > 0].index.tolist()\n",
        "\n",
        "if len(variables_con_valores_nulos) > 0:\n",
        "  print(\"Existen valores nulos en las siguientes variables:\")\n",
        "  for variable in variables_con_valores_nulos:\n",
        "    print(f\"\\t- {variable}\")\n",
        "else:\n",
        "  print(\"No existen valores nulos en el conjunto de datos.\")\n"
      ],
      "metadata": {
        "colab": {
          "base_uri": "https://localhost:8080/"
        },
        "id": "Cgj4rrhE_1NK",
        "outputId": "95f2cb43-fe83-4ffd-d965-c7ef37e3f4f3"
      },
      "execution_count": 34,
      "outputs": [
        {
          "output_type": "stream",
          "name": "stdout",
          "text": [
            "Existen valores nulos en las siguientes variables:\n",
            "\t- IdProducto\n"
          ]
        }
      ]
    },
    {
      "cell_type": "code",
      "source": [
        "# Se valida que no hayan datos faltantes previo a la construcción de la Matriz de Correlación\n",
        "dfCasinoConsumo.isnull().sum()\n"
      ],
      "metadata": {
        "colab": {
          "base_uri": "https://localhost:8080/"
        },
        "id": "yJguTrVL9VMF",
        "outputId": "1b9bdb4b-246d-4663-e84e-569e75c6323b"
      },
      "execution_count": 35,
      "outputs": [
        {
          "output_type": "execute_result",
          "data": {
            "text/plain": [
              "Consecutivo                   0\n",
              "IdProducto                47786\n",
              "cod lector                    0\n",
              "Cod comedor                   0\n",
              "Identificacion persona        0\n",
              "Fecha Consumo                 0\n",
              "Detalle                       0\n",
              "Nro empleados                 0\n",
              "Tipo Empleado                 0\n",
              "Nivel                         0\n",
              "Porcentaje apoyo              0\n",
              "Invitado                      0\n",
              "Ing x planta                  0\n",
              "dtype: int64"
            ]
          },
          "metadata": {},
          "execution_count": 35
        }
      ]
    },
    {
      "cell_type": "code",
      "source": [
        "dfCasinoConsumo.info()"
      ],
      "metadata": {
        "colab": {
          "base_uri": "https://localhost:8080/"
        },
        "id": "vcFGLDjcDV96",
        "outputId": "85e0ea9d-2e59-4b90-cf29-1ea0a8096d9c"
      },
      "execution_count": 46,
      "outputs": [
        {
          "output_type": "stream",
          "name": "stdout",
          "text": [
            "<class 'pandas.core.frame.DataFrame'>\n",
            "RangeIndex: 884615 entries, 0 to 884614\n",
            "Data columns (total 14 columns):\n",
            " #   Column                  Non-Null Count   Dtype         \n",
            "---  ------                  --------------   -----         \n",
            " 0   Consecutivo             884615 non-null  int64         \n",
            " 1   IdProducto              836829 non-null  float64       \n",
            " 2   cod lector              884615 non-null  int64         \n",
            " 3   Cod comedor             884615 non-null  int64         \n",
            " 4   Identificacion persona  884615 non-null  int64         \n",
            " 5   Fecha Consumo           341622 non-null  datetime64[ns]\n",
            " 6   Detalle                 884615 non-null  object        \n",
            " 7   Nro empleados           884615 non-null  int64         \n",
            " 8   Tipo Empleado           884615 non-null  object        \n",
            " 9   Nivel                   884615 non-null  object        \n",
            " 10  Porcentaje apoyo        884615 non-null  int64         \n",
            " 11  Invitado                884615 non-null  int64         \n",
            " 12  Ing x planta            884615 non-null  int64         \n",
            " 13  Dia de la semana        341622 non-null  float64       \n",
            "dtypes: datetime64[ns](1), float64(2), int64(8), object(3)\n",
            "memory usage: 94.5+ MB\n"
          ]
        }
      ]
    },
    {
      "cell_type": "code",
      "source": [
        "dfCasinoConsumo = pd.read_csv(\"DatosConsumoCasino.csv\",sep=\";\")\n",
        "# --------------------------------------\n",
        "# Preparación de los datos\n",
        "# --------------------------------------\n",
        "dfCasinoConsumo['Fecha Consumo'] = pd.to_datetime(dfCasinoConsumo['Fecha Consumo'], errors='coerce')\n",
        "dfCasinoConsumo['Dia de la semana'] = dfCasinoConsumo['Fecha Consumo'].dt.dayofweek # lunes=0, domingo=6\n",
        "dfCasinoConsumo['Detalle'] = dfCasinoConsumo['Detalle'].str.upper() # Se pasa a mayuscula todos los datos de la variable\n",
        "\n",
        "  # Filtrar el DataFrame para conservar solo las filas donde 'Detalle' es 'ALMUERZO' y crear una copia para evitar SettingWithCopyWarning\n",
        "dfCasinoConsumo = dfCasinoConsumo[dfCasinoConsumo['Detalle'] == 'ALMUERZO'].copy()\n",
        "dfCasinoConsumo['Nro empleados'] = pd.to_numeric(dfCasinoConsumo['Nro empleados'], errors='coerce')# Nos aseguramos que sea una variable numérica\n",
        "# Se convierte la variable 'Tipo Empleado' de variable categórica a variable numérica\n",
        "dfCasinoConsumo['Tipo Empleado'] = pd.Categorical(dfCasinoConsumo['Tipo Empleado']).codes\n",
        "dfCasinoConsumo['Nivel'] = pd.Categorical(dfCasinoConsumo['Nivel']).codes# Convertir 'Nivel' en variable numérica\n",
        "dfCasinoConsumo['Porcentaje apoyo'].value_counts()\n",
        "# dfCasinoConsumo['Porcentaje apoyo'] = pd.to_numeric(dfCasinoConsumo['Porcentaje apoyo'], errors='coerce')\n",
        "\n"
      ],
      "metadata": {
        "colab": {
          "base_uri": "https://localhost:8080/"
        },
        "id": "aa-YbH1VCmcH",
        "outputId": "87794274-daf3-4cdd-fff5-faaf42f86326"
      },
      "execution_count": 84,
      "outputs": [
        {
          "output_type": "execute_result",
          "data": {
            "text/plain": [
              "Porcentaje apoyo\n",
              "90     296538\n",
              "0      165780\n",
              "30      46338\n",
              "100     15229\n",
              "Name: count, dtype: int64"
            ]
          },
          "metadata": {},
          "execution_count": 84
        }
      ]
    },
    {
      "cell_type": "code",
      "source": [
        "dfCasinoConsumo['Porcentaje apoyo'] = pd.to_numeric(dfCasinoConsumo['Porcentaje apoyo'], errors='coerce')\n",
        "dfCasinoConsumo['Porcentaje apoyo'].value_counts()"
      ],
      "metadata": {
        "colab": {
          "base_uri": "https://localhost:8080/"
        },
        "id": "48jOgwdvGL5x",
        "outputId": "1b1b2c1c-c1a5-441d-9b1e-8cd736a93566"
      },
      "execution_count": 85,
      "outputs": [
        {
          "output_type": "execute_result",
          "data": {
            "text/plain": [
              "Porcentaje apoyo\n",
              "90     296538\n",
              "0      165780\n",
              "30      46338\n",
              "100     15229\n",
              "Name: count, dtype: int64"
            ]
          },
          "metadata": {},
          "execution_count": 85
        }
      ]
    },
    {
      "cell_type": "code",
      "source": [
        "dfCasinoConsumo['Tipo Empleado'].value_counts()"
      ],
      "metadata": {
        "colab": {
          "base_uri": "https://localhost:8080/"
        },
        "id": "mTCrrAn8FUul",
        "outputId": "fd81340d-d9f7-4546-989d-1553cdd649ba"
      },
      "execution_count": 75,
      "outputs": [
        {
          "output_type": "execute_result",
          "data": {
            "text/plain": [
              "Tipo Empleado\n",
              "2    327314\n",
              "0    160122\n",
              "1     36449\n",
              "Name: count, dtype: int64"
            ]
          },
          "metadata": {},
          "execution_count": 75
        }
      ]
    },
    {
      "cell_type": "code",
      "source": [
        "\n",
        "# Copia del consumo original de comidas relacionadas en el conjunto de datos\n",
        "dfCasinoConsumoOriginal = dfCasinoConsumo.copy()\n",
        "#  0   Consecutivo             0 non-null      int64  (ok)\n",
        "#  1   IdProducto              0 non-null      float64 (ok)\n",
        "#  2   cod lector              0 non-null      int64\n",
        "#  3   Cod comedor             0 non-null      int64\n",
        "#  4   Identificacion persona  0 non-null      int64\n",
        "\n",
        "#  5   Fecha Consumo           0 non-null      datetime64[ns] (SI: Dia de la semana)\n",
        "#  13  Dia de la semana        0 non-null      int32  (ok)\n",
        "#  6   Detalle                 0 non-null      object\n",
        "\n",
        "#  7   Nro empleados           0 non-null      int64\n",
        "#  8   Tipo Empleado           0 non-null      int8\n",
        "#  9   Nivel                   0 non-null      int8\n",
        "#  10  Porcentaje apoyo        0 non-null      int64\n",
        "#  11  Invitado                0 non-null      int64\n",
        "#  12  Ing x planta            0 non-null      int64\n",
        "\n",
        "#  14  Conteo Almuerzos        0 non-null      int64\n",
        "#  15  Número de Almuerzos     0 non-null      int64  (ok)\n",
        "# 'Número de Almuerzos', 'Dia de la semana', 'Tipo Empleado', 'Nro empleados', 'Porcentaje apoyo', 'Nivel', 'Consecutivo', 'IdProducto']\n",
        "\n",
        "\n",
        "\n",
        "\n",
        "dfCasinoConsumo['Porcentaje apoyo'] = pd.to_numeric(dfCasinoConsumo['Porcentaje apoyo'], errors='coerce')\n",
        "\n",
        "\n",
        "# Creamos una columna auxiliar 'Conteo Almuerzos' con todos los valores iguales a 1 para facilitar la suma\n",
        "dfCasinoConsumo.loc[:, 'Conteo Almuerzos'] = 1\n",
        "\n",
        "# Luego, agrupamos los datos por 'Día de la semana' y sumamos el 'Conteo Almuerzos' para obtener el 'Número de Almuerzos' total por cada día de la semana\n",
        "dfCasinoConsumo['Número de Almuerzos'] = dfCasinoConsumo.groupby('Dia de la semana')['Conteo Almuerzos'].transform('sum')\n",
        "\n",
        "# Continuando con la preparación de los datos:\n",
        "dfCasinoConsumo['Tipo Empleado'] = pd.Categorical(dfCasinoConsumo['Tipo Empleado']).codes # Convertir 'Tipo Empleado' en variable numérica\n",
        "dfCasinoConsumo['Detalle'] = pd.Categorical(dfCasinoConsumo['Detalle']).codes  # Convertir 'Detalle' en variable numérica, se dejo solo ALMUERZO\n",
        "\n",
        "dfCasinoConsumo['Nro empleados'] = pd.to_numeric(dfCasinoConsumo['Nro empleados'], errors='coerce')\n",
        "\n",
        "\n",
        "# Cada registro en el dataframe representa un ALMUERZO, CENA, O COMIDA consumida\n",
        "dfCasinoConsumo['Número de Almuerzos'] = dfCasinoConsumo.groupby('Dia de la semana')['Dia de la semana'].transform('count')\n",
        "\n",
        "# Garantizamos que eliminamos las filas con valores NaN (del inglés \"Not a Number\", que significa No es un Número) en las columnas relevantes\n",
        "# para asegurarnos de que la correlación no se vea afectada por datos no numericos, dado que las variables deben ser numéricas.\n",
        "# dfCasinoConsumo.dropna(subset=['Número de Almuerzos', 'Dia de la semana', 'Tipo Empleado', 'Nro empleados', 'Porcentaje apoyo', 'Nivel',\n",
        "                              #  'Consecutivo', 'IdProducto'], inplace=True)\n",
        "\n",
        "dfCasinoConsumo.head()\n",
        "# ------------------\n",
        "# Finalmente se crea la Matriz de Correlación entre las variables seleccionadas, se quita la variable Detalle\n",
        "correlation_matrix = dfCasinoConsumo[['Número de Almuerzos', 'Dia de la semana', 'Tipo Empleado', 'Nro empleados', 'Porcentaje apoyo', 'Nivel',\n",
        "                                      'Consecutivo', 'IdProducto']].corr()\n",
        "\n",
        "# # Visualización de la matriz de correlación\n",
        "# plt.figure(figsize=(12, 10))\n",
        "# sns.heatmap(correlation_matrix, annot=True, cmap='coolwarm', fmt=\".2f\")\n",
        "# plt.title('Correlación entre Variables Dependientes e Independientes')\n",
        "# plt.xticks(rotation=45)\n",
        "# plt.yticks(rotation=0)\n",
        "# plt.tight_layout()\n",
        "# plt.show()"
      ],
      "metadata": {
        "id": "Rvo9vtYXzDtD"
      },
      "execution_count": 40,
      "outputs": []
    }
  ]
}